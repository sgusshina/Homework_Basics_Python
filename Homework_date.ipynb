{
 "cells": [
  {
   "cell_type": "markdown",
   "metadata": {},
   "source": [
    "Задание 1\n",
    "The Moscow Times — Wednesday, October 2, 2002\n",
    "The Guardian — Friday, 11.10.13\n",
    "Daily News — Thursday, 18 August 1977"
   ]
  },
  {
   "cell_type": "code",
   "execution_count": 12,
   "metadata": {},
   "outputs": [
    {
     "name": "stdout",
     "output_type": "stream",
     "text": [
      "2002-10-02 00:00:00 2013-10-11 00:00:00 1977-08-18 00:00:00\n"
     ]
    }
   ],
   "source": [
    "from datetime import datetime\n",
    "from datetime import timedelta\n",
    "\n",
    "date_moscow = '%A, %B %d, %Y'\n",
    "date_guardian ='%A, %d.%m.%y'\n",
    "date_daily = '%A, %d %B %Y'\n",
    "dt_msc = datetime.strptime('Wednesday, October 2, 2002', date_moscow)\n",
    "dt_grd = datetime.strptime('Friday, 11.10.13', date_guardian)\n",
    "dt_dl = datetime.strptime('Thursday, 18 August 1977', date_daily)\n",
    "print(dt_msc,dt_grd,dt_dl)\n"
   ]
  },
  {
   "cell_type": "markdown",
   "metadata": {},
   "source": [
    "Задание 2"
   ]
  },
  {
   "cell_type": "code",
   "execution_count": 17,
   "metadata": {},
   "outputs": [
    {
     "name": "stdout",
     "output_type": "stream",
     "text": [
      "True 2018-04-02 - корректна\n",
      "False 2018-02-29 - некорректна\n",
      "False 2018-19-02 - некорректна\n"
     ]
    }
   ],
   "source": [
    "stream = ['2018-04-02', '2018-02-29', '2018-19-02']\n",
    "\n",
    "date_abs = '%Y-%m-%d'\n",
    "for date in stream:\n",
    "    try:\n",
    "        dt = datetime.strptime(date,date_abs)\n",
    "        print(True, f'{date} - корректна')\n",
    "    except ValueError:\n",
    "        print(False, f'{date} - некорректна')"
   ]
  },
  {
   "cell_type": "markdown",
   "metadata": {},
   "source": [
    "Задание 3\n",
    "Напишите функцию date_range, которая возвращает список дат за период от start_date до end_date. Даты должны вводиться в формате YYYY-MM-DD. В случае неверного формата или при start_date > end_date должен возвращаться пустой список."
   ]
  },
  {
   "cell_type": "code",
   "execution_count": 53,
   "metadata": {},
   "outputs": [
    {
     "name": "stdout",
     "output_type": "stream",
     "text": [
      "Неверный ввод\n"
     ]
    },
    {
     "data": {
      "text/plain": [
       "[]"
      ]
     },
     "execution_count": 53,
     "metadata": {},
     "output_type": "execute_result"
    }
   ],
   "source": [
    "from datetime import timedelta\n",
    "date_list = []\n",
    "def date_range():\n",
    "    start_date = input('Введите начальную дату в формате YYYY-MM-DD')\n",
    "    end_date = input('Введите конечную дату в формате YYYY-MM-DD')\n",
    "    try:\n",
    "        dt_start = datetime.strptime(start_date,'%Y-%m-%d')\n",
    "        dt_end = datetime.strptime(end_date,'%Y-%m-%d')\n",
    "\n",
    "        while dt_start < dt_end :\n",
    "            dt_start += timedelta(days = 1)\n",
    "\n",
    "            if dt_start == dt_end:\n",
    "                break\n",
    "\n",
    "            date_list.append(dt_start.strftime('%Y-%m-%d'))\n",
    "        \n",
    "    except ValueError:\n",
    "        print('Неверный ввод')\n",
    "    \n",
    "    return date_list\n",
    "    \n",
    "\n",
    "date_range()"
   ]
  },
  {
   "cell_type": "markdown",
   "metadata": {},
   "source": [
    "Задание 4"
   ]
  },
  {
   "cell_type": "code",
   "execution_count": 80,
   "metadata": {},
   "outputs": [
    {
     "data": {
      "text/plain": [
       "'A100'"
      ]
     },
     "execution_count": 80,
     "metadata": {},
     "output_type": "execute_result"
    }
   ],
   "source": [
    "DEFAULT_USER_COUNT = 3\n",
    "\n",
    "def delete_and_return_last_user(region, default_list=['A100', 'A101', 'A102']):\n",
    "                                                      \n",
    "    element_to_delete = default_list[-1]\n",
    "\n",
    "    default_list.remove(element_to_delete)\n",
    "\n",
    "    return default_list[DEFAULT_USER_COUNT - 2]\n",
    "\n",
    "delete_and_return_last_user(1)\n",
    "\n",
    "\"\"\"Ошибка list index out of range означает, что невозможно обратиться к элементу с заданным индексом (1), потому что его не существует.\n",
    "При повторном запуске функции длина списка - 2 элемента -> удаляется последний, остается 1 элемент с индексом 0,\n",
    "а функция должна возвращать элемент с индексом 1\n",
    "Исправить функцию можно следующим образом\"\"\"\n",
    "# def delete_and_return_last_user(region, default_list=['A100', 'A101', 'A102']):\n",
    "                                                      \n",
    "#     element_to_delete = default_list[-1]\n",
    "\n",
    "#     default_list.remove(element_to_delete)\n",
    "#     try:\n",
    "#         return default_list[len(default_list) - 1]\n",
    "#     except:\n",
    "#         return default_list\n",
    "\n",
    "# delete_and_return_last_user(1)\n",
    "# delete_and_return_last_user(1)\n",
    "\n"
   ]
  },
  {
   "cell_type": "code",
   "execution_count": null,
   "metadata": {},
   "outputs": [],
   "source": []
  }
 ],
 "metadata": {
  "kernelspec": {
   "display_name": "Python 3",
   "language": "python",
   "name": "python3"
  },
  "language_info": {
   "codemirror_mode": {
    "name": "ipython",
    "version": 3
   },
   "file_extension": ".py",
   "mimetype": "text/x-python",
   "name": "python",
   "nbconvert_exporter": "python",
   "pygments_lexer": "ipython3",
   "version": "3.9.6"
  }
 },
 "nbformat": 4,
 "nbformat_minor": 2
}
