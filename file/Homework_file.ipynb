{
 "cells": [
  {
   "cell_type": "markdown",
   "metadata": {},
   "source": [
    "Задание 1"
   ]
  },
  {
   "cell_type": "code",
   "execution_count": 2,
   "metadata": {},
   "outputs": [
    {
     "name": "stdout",
     "output_type": "stream",
     "text": [
      "{'user_id': 'category', '1840e0b9d4': 'Продукты', '4e4f90fcfb': 'Электроника', 'afea8d72fc': 'Электроника', '373a6055fe': 'Бытовая техника', '9b2ab046f3': 'Электроника'}\n"
     ]
    }
   ],
   "source": [
    "import json\n",
    "f = open('purchase_log.txt')\n",
    "\n",
    "purchase = {}\n",
    "for i,line in enumerate(f):\n",
    "    if i > 5:\n",
    "        break\n",
    "    dict_ = json.loads(line)\n",
    "    purchase[dict_['user_id']] = dict_['category']\n",
    "\n",
    "print(purchase)\n",
    "    \n",
    "    "
   ]
  },
  {
   "cell_type": "markdown",
   "metadata": {},
   "source": [
    "Задание 2"
   ]
  },
  {
   "cell_type": "code",
   "execution_count": 88,
   "metadata": {},
   "outputs": [
    {
     "name": "stdout",
     "output_type": "stream",
     "text": [
      "user_id,source,category\n",
      "1840e0b9d4,other,продукты\n",
      "4e4f90fcfb,context,электроника\n",
      "afea8d72fc,other,электроника\n",
      "373a6055fe,other,бытовая техника\n",
      "9b2ab046f3,other,электроника\n"
     ]
    }
   ],
   "source": [
    "f = open('visit_log.csv')\n",
    "\n",
    "for line in f:\n",
    "    user_id = line.strip().split(',')[0]\n",
    "    if user_id in purchase: \n",
    "        with open('funnel.csv', 'a') as f_funnel:\n",
    "            f_funnel.write(f'{line.strip()},{purchase[user_id].lower()}\\n')\n",
    "\n",
    "f_new = open('funnel.csv')## вывод строк нового файла\n",
    "for line in f_new: \n",
    "    print(line.strip())\n",
    "\n",
    "\n",
    "  "
   ]
  },
  {
   "cell_type": "code",
   "execution_count": null,
   "metadata": {},
   "outputs": [],
   "source": []
  }
 ],
 "metadata": {
  "kernelspec": {
   "display_name": "Python 3",
   "language": "python",
   "name": "python3"
  },
  "language_info": {
   "codemirror_mode": {
    "name": "ipython",
    "version": 3
   },
   "file_extension": ".py",
   "mimetype": "text/x-python",
   "name": "python",
   "nbconvert_exporter": "python",
   "pygments_lexer": "ipython3",
   "version": "3.9.6"
  }
 },
 "nbformat": 4,
 "nbformat_minor": 2
}
