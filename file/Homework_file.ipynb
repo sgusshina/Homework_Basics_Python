{
 "cells": [
  {
   "cell_type": "markdown",
   "metadata": {},
   "source": [
    "Задание 1"
   ]
  },
  {
   "cell_type": "code",
   "execution_count": 2,
   "metadata": {},
   "outputs": [
    {
     "name": "stdout",
     "output_type": "stream",
     "text": [
      "{'user_id': 'category', '1840e0b9d4': 'Продукты', '4e4f90fcfb': 'Электроника', 'afea8d72fc': 'Электроника', '373a6055fe': 'Бытовая техника', '9b2ab046f3': 'Электроника'}\n"
     ]
    }
   ],
   "source": [
    "import json\n",
    "f = open('purchase_log.txt')\n",
    "\n",
    "purchase = {}\n",
    "for i,line in enumerate(f):\n",
    "    if i > 5:\n",
    "        break\n",
    "    dict_ = json.loads(line)\n",
    "    purchase[dict_['user_id']] = dict_['category']\n",
    "\n",
    "print(purchase)\n",
    "    \n",
    "    "
   ]
  },
  {
   "cell_type": "markdown",
   "metadata": {},
   "source": [
    "Задание 2"
   ]
  },
  {
   "cell_type": "code",
   "execution_count": 88,
   "metadata": {},
   "outputs": [
    {
     "name": "stdout",
     "output_type": "stream",
     "text": [
      "user_id,source,category\n",
      "1840e0b9d4,other,продукты\n",
      "4e4f90fcfb,context,электроника\n",
      "afea8d72fc,other,электроника\n",
      "373a6055fe,other,бытовая техника\n",
      "9b2ab046f3,other,электроника\n"
     ]
    }
   ],
   "source": [
    "f = open('visit_log.csv')\n",
    "\n",
    "for line in f:\n",
    "    user_id = line.strip().split(',')[0]\n",
    "    if user_id in purchase: \n",
    "        with open('funnel.csv', 'a') as f_funnel:\n",
    "            f_funnel.write(f'{line.strip()},{purchase[user_id].lower()}\\n')\n",
    "\n",
    "f_new = open('funnel.csv')## вывод строк нового файла\n",
    "for line in f_new: \n",
    "    print(line.strip())\n",
    "\n",
    "\n",
    "  "
   ]
  },
  {
   "cell_type": "code",
   "execution_count": 99,
   "metadata": {},
   "outputs": [
    {
     "name": "stdout",
     "output_type": "stream",
     "text": [
      "gmail.com 2\n",
      "test.in 1\n",
      "ya.ru 2\n",
      "mail.ru 1\n"
     ]
    }
   ],
   "source": [
    "import re\n",
    "emails = ['test@gmail.com', 'xyz@test.in', 'test@ya.ru', 'xyz@mail.ru', 'xyz@ya.ru', 'xyz@gmail.com']\n",
    "\n",
    "\n",
    "\n",
    "\n",
    "def counting(emails: list) -> dict:\n",
    "    dic ={}\n",
    "    for line in emails:\n",
    "        line = re.split('@', line, maxsplit=0)\n",
    "        dic.setdefault(line[1],0)\n",
    "        dic[line[1]] += 1\n",
    "    \n",
    "    \n",
    "    return dic\n",
    " \n",
    "for k, v in counting(emails).items():\n",
    "    print(k, v)"
   ]
  },
  {
   "cell_type": "code",
   "execution_count": 101,
   "metadata": {},
   "outputs": [
    {
     "name": "stdout",
     "output_type": "stream",
     "text": [
      "Э\n",
      "я\n",
      "и\n",
      "а\n",
      "и\n",
      "О\n",
      "и\n",
      "е\n",
      "о\n",
      "Э\n",
      "я\n",
      "и\n",
      "а\n",
      "и\n",
      "О\n",
      "и\n",
      "е\n",
      "о\n",
      "Слов на гласные буквы: 9 \n",
      "Слов на согласные буквы: 21\n"
     ]
    }
   ],
   "source": [
    "import re\n",
    "some_text = '''\n",
    "Эталонной реализацией Python является интерпретатор CPython, \n",
    "поддерживающий большинство активно используемых платформ. \n",
    "Он распространяется под свободной лицензией Python Software Foundation License, \n",
    "позволяющей использовать его без ограничений в любых приложениях, включая проприетарные.\n",
    "'''\n",
    "def vowel_cons(some_text: str) -> list:\n",
    "    list_ = re.sub(r'\\n','',some_text).split(' ')\n",
    "    vowels = []\n",
    "    cons = []\n",
    "    for list in list_:\n",
    "        if list[0] in re.findall(r'[(АЁЕИОУЫЭЮЯаёеиоуыэюяAEIOUYaeiouy)]',list):\n",
    "            vowels.append(list)\n",
    "        elif list[0] in re.findall(r'[БВГДЖЗЙКЛМНПРСТФХЦЧШЩбвгдйжзклмнпрстфхцчшщBCDFGHJKLMNPQRSTVWXYZbcdfghjklmnpqrstvwxyz]',some_text):\n",
    "            cons.append(list)\n",
    "\n",
    "    return len(vowels),len(cons)\n",
    "\n",
    " \n",
    "print('Слов на гласные буквы:', vowel_cons(some_text)[0], '\\nСлов на согласные буквы:', vowel_cons(some_text)[1])"
   ]
  }
 ],
 "metadata": {
  "kernelspec": {
   "display_name": "Python 3",
   "language": "python",
   "name": "python3"
  },
  "language_info": {
   "codemirror_mode": {
    "name": "ipython",
    "version": 3
   },
   "file_extension": ".py",
   "mimetype": "text/x-python",
   "name": "python",
   "nbconvert_exporter": "python",
   "pygments_lexer": "ipython3",
   "version": "3.9.6"
  }
 },
 "nbformat": 4,
 "nbformat_minor": 2
}
