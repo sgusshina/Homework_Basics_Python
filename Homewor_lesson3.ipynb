{
 "cells": [
  {
   "cell_type": "code",
   "execution_count": 1,
   "metadata": {},
   "outputs": [],
   "source": [
    "import math\n",
    "import re\n"
   ]
  },
  {
   "cell_type": "code",
   "execution_count": 31,
   "metadata": {},
   "outputs": [
    {
     "name": "stdout",
     "output_type": "stream",
     "text": [
      "{98, 35, 15, 213, 54, 119}\n"
     ]
    }
   ],
   "source": [
    "# Задание 1\n",
    "ids = {'user1': [213, 213, 213, 15, 213], \n",
    "       'user2': [54, 54, 119, 119, 119], \n",
    "       'user3': [213, 98, 98, 35]}\n",
    "\n",
    "new_id = []\n",
    "list_id = list(ids.values())\n",
    "\n",
    "for element in list_id:\n",
    "    new_id += element\n",
    "\n",
    "print(set(new_id))\n",
    "    \n",
    "\n"
   ]
  },
  {
   "cell_type": "code",
   "execution_count": 82,
   "metadata": {},
   "outputs": [
    {
     "name": "stdout",
     "output_type": "stream",
     "text": [
      "Поисковых запросов, содержащих 3 слов(а) - 50.0%\n",
      "Поисковых запросов, содержащих 2 слов(а) - 37.5%\n",
      "Поисковых запросов, содержащих 5 слов(а) - 12.5%\n"
     ]
    }
   ],
   "source": [
    "# Задание 2\n",
    "queries = [\n",
    "    'смотреть сериалы онлайн',\n",
    "    'новости спорта',\n",
    "    'афиша кино',\n",
    "    'курс доллара',\n",
    "    'сериалы этим летом',\n",
    "    'курс по питону',\n",
    "    'сериалы про спорт',\n",
    "    'сериалы про очень веселый спорт'\n",
    "]\n",
    "len_list = []\n",
    "dict_word = {}\n",
    "for querie in queries:\n",
    "    len_list.append(len(querie.split(' ')))\n",
    "for element in len_list:\n",
    "    dict_word[element] = len_list.count(element)\n",
    "for word,number in dict_word.items():\n",
    "    print(f\"Поисковых запросов, содержащих {word} слов(а) - {number/len(len_list):.1%}\")\n",
    "\n",
    "\n"
   ]
  },
  {
   "cell_type": "code",
   "execution_count": 99,
   "metadata": {},
   "outputs": [
    {
     "name": "stdout",
     "output_type": "stream",
     "text": [
      "{'adwords': {'revenue': 35, 'cost': 34, 'ROI': 2.94}, 'facebook': {'revenue': 103, 'cost': 110, 'ROI': -6.36}, 'twitter': {'revenue': 11, 'cost': 24, 'ROI': -54.17}, 'vk': {'revenue': 103, 'cost': 98, 'ROI': 5.1}, 'yandex': {'revenue': 179, 'cost': 153, 'ROI': 16.99}}\n"
     ]
    }
   ],
   "source": [
    "# Задание 3\n",
    "results = {\n",
    "    'vk': {'revenue': 103, 'cost': 98},\n",
    "    'yandex': {'revenue': 179, 'cost': 153},\n",
    "    'facebook': {'revenue': 103, 'cost': 110},\n",
    "    'adwords': {'revenue': 35, 'cost': 34},\n",
    "    'twitter': {'revenue': 11, 'cost': 24},\n",
    "}\n",
    "\n",
    "for param in results.values():\n",
    "    param['ROI'] = round((param['revenue']/param['cost']-1)*100,2)\n",
    "\n",
    "print(dict(sorted(results.items())))"
   ]
  },
  {
   "cell_type": "code",
   "execution_count": 113,
   "metadata": {},
   "outputs": [
    {
     "name": "stdout",
     "output_type": "stream",
     "text": [
      "Максимальный объем продаж на рекламном канале: vk\n"
     ]
    }
   ],
   "source": [
    "# Задание 4\n",
    "stats = {'facebook': 55, 'yandex': 115, 'vk': 120, 'google': 99, 'email': 42, 'ok': 98}\n",
    "\n",
    "value = stats.values()\n",
    "for key in stats.keys():\n",
    "    if stats[key] == max(value):\n",
    "        print(f\"Максимальный объем продаж на рекламном канале: {key}\")\n"
   ]
  },
  {
   "cell_type": "code",
   "execution_count": 126,
   "metadata": {},
   "outputs": [
    {
     "name": "stdout",
     "output_type": "stream",
     "text": [
      "{'2018-01-01': {'yandex': {'cpc': {100: {}}}}}\n"
     ]
    }
   ],
   "source": [
    "# Задание 5\n",
    "my_list = ['2018-01-01', 'yandex', 'cpc', 100]\n",
    "my_dict = {}\n",
    "\n",
    "for element in reversed(my_list):\n",
    "    my_dict ={element: my_dict}\n",
    "\n",
    "print(my_dict)\n",
    "\n",
    "\n",
    "# {'2018-01-01': {'yandex': {'cpc': 100}}}"
   ]
  },
  {
   "cell_type": "code",
   "execution_count": 218,
   "metadata": {},
   "outputs": [
    {
     "name": "stdout",
     "output_type": "stream",
     "text": [
      "{('сыр', 'гр'): 350, ('томаты', 'шт'): 10, ('огурцы', 'гр'): 100, ('маслины', 'гр'): 50, ('оливковое масло', 'мл'): 100, ('салат', 'гр'): 50, ('перец', 'гр'): 100, ('колбаса', 'гр'): 150, ('бекон', 'гр'): 150, ('оливки', 'гр'): 50, ('томаты', 'гр'): 100, ('тесто', 'гр'): 500, ('лимон', 'шт'): 5, ('вода', 'мл'): 1000, ('сахар', 'гр'): 50, ('лайм', 'гр'): 100}\n",
      "Сыр: 350 гр\n",
      "Томаты: 10 шт\n",
      "Огурцы: 100 гр\n",
      "Маслины: 50 гр\n",
      "Оливковое масло: 100 мл\n",
      "Салат: 50 гр\n",
      "Перец: 100 гр\n",
      "Колбаса: 150 гр\n",
      "Бекон: 150 гр\n",
      "Оливки: 50 гр\n",
      "Томаты: 100 гр\n",
      "Тесто: 500 гр\n",
      "Лимон: 5 шт\n",
      "Вода: 1000 мл\n",
      "Сахар: 50 гр\n",
      "Лайм: 100 гр\n"
     ]
    }
   ],
   "source": [
    "# Задание 6\n",
    "\n",
    "cook_book = {\n",
    "  'салат': [\n",
    "     {'ingridient_name': 'сыр', 'quantity': 50, 'measure': 'гр'},\n",
    "     {'ingridient_name': 'томаты', 'quantity': 2, 'measure': 'шт'},\n",
    "     {'ingridient_name': 'огурцы', 'quantity': 20, 'measure': 'гр'},\n",
    "     {'ingridient_name': 'маслины', 'quantity': 10, 'measure': 'гр'},\n",
    "     {'ingridient_name': 'оливковое масло', 'quantity': 20, 'measure': 'мл'},\n",
    "     {'ingridient_name': 'салат', 'quantity': 10, 'measure': 'гр'},\n",
    "     {'ingridient_name': 'перец', 'quantity': 20, 'measure': 'гр'}\n",
    "    ],\n",
    "  'пицца': [\n",
    "     {'ingridient_name': 'сыр', 'quantity': 20, 'measure': 'гр'},\n",
    "     {'ingridient_name': 'колбаса', 'quantity': 30, 'measure': 'гр'},\n",
    "     {'ingridient_name': 'бекон', 'quantity': 30, 'measure': 'гр'},\n",
    "     {'ingridient_name': 'оливки', 'quantity': 10, 'measure': 'гр'},\n",
    "     {'ingridient_name': 'томаты', 'quantity': 20, 'measure': 'гр'},\n",
    "     {'ingridient_name': 'тесто', 'quantity': 100, 'measure': 'гр'},   \n",
    "    ],\n",
    "  'лимонад': [\n",
    "     {'ingridient_name': 'лимон', 'quantity': 1, 'measure': 'шт'},\n",
    "     {'ingridient_name': 'вода', 'quantity': 200, 'measure': 'мл'},\n",
    "     {'ingridient_name': 'сахар', 'quantity': 10, 'measure': 'гр'},\n",
    "     {'ingridient_name': 'лайм', 'quantity': 20, 'measure': 'гр'},    \n",
    "    ]\n",
    "}\n",
    "value = int(input('Введите количество человек'))\n",
    "ingredients = {}\n",
    "for dish in cook_book:\n",
    "\n",
    "    for ingredient in cook_book[dish]:\n",
    "        key = (ingredient['ingridient_name'], ingredient['measure'])\n",
    "\n",
    "        if key in ingredients:\n",
    "            ingredients[key] += ingredient['quantity'] * value\n",
    "        else:\n",
    "            ingredients[key] = ingredient['quantity'] * value\n",
    "for (name, measure), quantity in ingredients.items():\n",
    "    print(f\"{name.capitalize()}: {quantity} {measure}\")\n",
    "    \n",
    "\n",
    "        \n",
    "\n",
    "     \n",
    "      \n",
    "      \n",
    "  \n",
    "     \n",
    "    \n",
    "      "
   ]
  }
 ],
 "metadata": {
  "kernelspec": {
   "display_name": "Python 3",
   "language": "python",
   "name": "python3"
  },
  "language_info": {
   "codemirror_mode": {
    "name": "ipython",
    "version": 3
   },
   "file_extension": ".py",
   "mimetype": "text/x-python",
   "name": "python",
   "nbconvert_exporter": "python",
   "pygments_lexer": "ipython3",
   "version": "3.9.6"
  }
 },
 "nbformat": 4,
 "nbformat_minor": 2
}
